{
  "nbformat": 4,
  "nbformat_minor": 0,
  "metadata": {
    "colab": {
      "name": "numpy_commands.ipynb",
      "provenance": [],
      "collapsed_sections": [],
      "authorship_tag": "ABX9TyMKTvPGdshmtCAF5gfmMR37",
      "include_colab_link": true
    },
    "kernelspec": {
      "name": "python3",
      "display_name": "Python 3"
    }
  },
  "cells": [
    {
      "cell_type": "markdown",
      "metadata": {
        "id": "view-in-github",
        "colab_type": "text"
      },
      "source": [
        "<a href=\"https://colab.research.google.com/github/theindianczar/ml/blob/master/numpy_commands.ipynb\" target=\"_parent\"><img src=\"https://colab.research.google.com/assets/colab-badge.svg\" alt=\"Open In Colab\"/></a>"
      ]
    },
    {
      "cell_type": "code",
      "metadata": {
        "id": "x0a0t8NGzdGJ",
        "colab_type": "code",
        "colab": {}
      },
      "source": [
        "import numpy as np\n"
      ],
      "execution_count": 2,
      "outputs": []
    },
    {
      "cell_type": "code",
      "metadata": {
        "id": "51J8NgstzwI3",
        "colab_type": "code",
        "colab": {}
      },
      "source": [
        "vec = np.array([1,2,3])"
      ],
      "execution_count": null,
      "outputs": []
    },
    {
      "cell_type": "code",
      "metadata": {
        "id": "i9wrfyaHzwy9",
        "colab_type": "code",
        "colab": {}
      },
      "source": [
        "mat = np.array([[1,2,1],[4,5,9],[1,8,9]])"
      ],
      "execution_count": null,
      "outputs": []
    },
    {
      "cell_type": "code",
      "metadata": {
        "id": "Ql-80EANzzly",
        "colab_type": "code",
        "colab": {}
      },
      "source": [
        "vec2 = np.arange(0,15)"
      ],
      "execution_count": null,
      "outputs": []
    },
    {
      "cell_type": "code",
      "metadata": {
        "id": "JD1YPzXMz1Wn",
        "colab_type": "code",
        "colab": {}
      },
      "source": [
        "vec3 = np.arange(3,21,6)"
      ],
      "execution_count": null,
      "outputs": []
    },
    {
      "cell_type": "code",
      "metadata": {
        "id": "YzL4cPxVz3Gv",
        "colab_type": "code",
        "colab": {}
      },
      "source": [
        "vec4 = np.linspace(0,5,10)"
      ],
      "execution_count": null,
      "outputs": []
    },
    {
      "cell_type": "code",
      "metadata": {
        "id": "41qAVECJz6ME",
        "colab_type": "code",
        "colab": {}
      },
      "source": [
        "vec4_reshaped = vec4.reshape(5,2)"
      ],
      "execution_count": null,
      "outputs": []
    },
    {
      "cell_type": "code",
      "metadata": {
        "id": "fax1Tqu1z75o",
        "colab_type": "code",
        "colab": {}
      },
      "source": [
        "mat2 = np.zeros([5,3])"
      ],
      "execution_count": null,
      "outputs": []
    },
    {
      "cell_type": "code",
      "metadata": {
        "id": "j3U3YtcPz9O3",
        "colab_type": "code",
        "colab": {}
      },
      "source": [
        "mat3 = np.ones((3,5))"
      ],
      "execution_count": null,
      "outputs": []
    },
    {
      "cell_type": "code",
      "metadata": {
        "id": "PCO1hDf0z-tH",
        "colab_type": "code",
        "colab": {}
      },
      "source": [
        "mat4 = np.eye(5)"
      ],
      "execution_count": null,
      "outputs": []
    },
    {
      "cell_type": "code",
      "metadata": {
        "id": "r9UX45O_z_YQ",
        "colab_type": "code",
        "colab": {}
      },
      "source": [
        "vec5 = np.arange(1,6)\n",
        "vec6 = np.arange(3,8)\n",
        "print(vec5+vec6)\n",
        "print(vec5*vec6)\n",
        "product = np.matmul(mat,vec)\n",
        "\n",
        "### solving the equation ie multiplying mat with vec gives product\n",
        "### here we are given mat and product and we are trying to find vec\n",
        "print(np.linalg.solve(mat,product))\n",
        "\n",
        "## calculate inverse of matrix\n",
        "print(np.linalg.inv(mat))"
      ],
      "execution_count": null,
      "outputs": []
    },
    {
      "cell_type": "code",
      "metadata": {
        "id": "I0sqh0M70csp",
        "colab_type": "code",
        "colab": {}
      },
      "source": [
        "# we can find the unique values in an array\n",
        "vec7 = np.array(['blue','red','orange','purple','purple','orange','Red',6])\n",
        "print(np.unique(vec7))\n"
      ],
      "execution_count": null,
      "outputs": []
    },
    {
      "cell_type": "code",
      "metadata": {
        "id": "UeaH3qcR0irK",
        "colab_type": "code",
        "colab": {}
      },
      "source": [
        " # uniform random variable  ( uniform dist between 0 and 1)\n",
        " rand_mat = np.random.rand(5,5)\n",
        "\n",
        " # standard normal random variable ( mean 0 and sttd devn 1)\n",
        " rand_mat2 = np.random.randn(10,5)\n",
        "\n",
        "## calculate mean and stdd devn for matrix\n",
        "print(np.mean(rand_mat))\n",
        "print(np.std(rand_mat2))\n",
        "\n",
        "print(np.min(rand_mat))\n",
        "print(np.max(rand_mat2))"
      ],
      "execution_count": null,
      "outputs": []
    },
    {
      "cell_type": "code",
      "metadata": {
        "id": "XLcaW57HjPIY",
        "colab_type": "code",
        "colab": {}
      },
      "source": [
        "# access entries in a numpy vector\n",
        "rand_vec = np.random.randn(19)\n",
        "\n",
        "print(rand_vec[6])\n",
        "# we can access multiple entries at once using :\n",
        "print(rand_vec[4:9]\n",
        "# we can also access multiple non-consecutive entries using np.arange\n",
        "print(np.arange(0,15,3))\n",
        "print(rand_vec[np.arange(0,15,3)])"
      ],
      "execution_count": null,
      "outputs": []
    },
    {
      "cell_type": "code",
      "metadata": {
        "id": "sn_iw0ZbjhyS",
        "colab_type": "code",
        "colab": {}
      },
      "source": [
        "# access entries in a numpy  matrices\n",
        "print(rand_mat)\n",
        "print(rand_mat[1][2])\n",
        "print(rand_mat[1,2])\n",
        "print(rand_mat[0:2,1:3])"
      ],
      "execution_count": null,
      "outputs": []
    },
    {
      "cell_type": "code",
      "metadata": {
        "id": "lnoMyqogjtGm",
        "colab_type": "code",
        "colab": {}
      },
      "source": [
        "# changing some values in an array\n",
        "rand_vec = np.random.randn(19)\n",
        "\n",
        "rand_vec[3:5] = 4\n",
        "print(rand_vec)\n",
        "\n",
        "rand_vec[3:5] = [1,2]\n",
        "print(rand_vec)\n",
        "\n",
        "rand_mat = np.random.rand(5,5)\n",
        "\n",
        "rand_mat[1:3,3:5] = 0\n",
        "print(rand_mat)"
      ],
      "execution_count": null,
      "outputs": []
    },
    {
      "cell_type": "code",
      "metadata": {
        "id": "1ah-PmtFmLC5",
        "colab_type": "code",
        "colab": {}
      },
      "source": [
        "#slicing a matrix\n",
        "sub_mat = rand_mat[0:2,0:3]\n",
        "print(sub_mat)\n",
        "\n",
        "sub_mat[:] = 3\n",
        "print(sub_mat)"
      ],
      "execution_count": null,
      "outputs": []
    },
    {
      "cell_type": "code",
      "metadata": {
        "id": "1P61PjbPmOwt",
        "colab_type": "code",
        "colab": {}
      },
      "source": [
        "# creating a copy of the matrix\n",
        "sub_mat2 = rand_mat[0:2,0:3].copy()\n",
        "sub_mat2[:] = 99\n",
        "print(sub_mat2)\n",
        "print(rand_mat)"
      ],
      "execution_count": null,
      "outputs": []
    },
    {
      "cell_type": "code",
      "metadata": {
        "id": "QRigyAuOto3q",
        "colab_type": "code",
        "colab": {}
      },
      "source": [
        "# access entries with logicals\n",
        "rand_vec = np.random.randn(15)\n",
        "print(rand_vec)\n",
        "print(rand_vec>0)\n",
        "print(rand_vec[rand_vec>0])\n",
        "rand_vec[rand_vec>0.5] = -5\n",
        "print(rand_vec)\n",
        "\n",
        "\n",
        "rand_mat2 = np.random.rand(5,5)\n",
        "print(rand_mat2)\n",
        "print(rand_mat2[rand_mat2>0])\n"
      ],
      "execution_count": null,
      "outputs": []
    },
    {
      "cell_type": "code",
      "metadata": {
        "id": "yywuyH-quaGC",
        "colab_type": "code",
        "colab": {}
      },
      "source": [
        "# saving some arrays on the disk\n",
        "\n",
        "#Saving 1 array\n",
        "np.save('saved_file_name',rand_mat2)\n",
        "\n",
        "# saving multiple arrays\n",
        "np.savez('zipped_file_name',rand_mat=rand_mat,rand_mat2=rand_mat2)\n",
        "\n",
        "\n",
        "# now let's load it\n",
        "loaded_vec = np.load('saved_file_name.npy')\n",
        "loaded_zip = np.load('zipped_file_name.npz')\n",
        "print(loaded_zip)\n",
        "print(loaded_zip['rand_mat'])\n",
        "print('')\n",
        "print(loaded_zip['rand_mat2'])\n",
        "\n",
        "new_array  = loaded_zip['rand_mat']\n",
        "print(new_array)\n",
        "\n",
        "\n",
        "# we can also save/load as text files...but only single variables\n",
        "np.savetxt('text_file_name.txt',rand_mat,delimiter=',')\n",
        "rand_mat_txt = np.loadtxt('text_file_name.txt',delimiter=',')\n",
        "print(rand_mat)\n",
        "print('')\n",
        "print(rand_mat_txt)"
      ],
      "execution_count": null,
      "outputs": []
    },
    {
      "cell_type": "code",
      "metadata": {
        "id": "qxqcMGQatyoU",
        "colab_type": "code",
        "colab": {}
      },
      "source": [
        ""
      ],
      "execution_count": null,
      "outputs": []
    }
  ]
}