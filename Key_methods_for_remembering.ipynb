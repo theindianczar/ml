{
  "nbformat": 4,
  "nbformat_minor": 0,
  "metadata": {
    "colab": {
      "name": "Key methods for remembering.ipynb",
      "provenance": [],
      "authorship_tag": "ABX9TyOdW2LLQCbp8S+pIjmvZwdv",
      "include_colab_link": true
    },
    "kernelspec": {
      "name": "python3",
      "display_name": "Python 3"
    }
  },
  "cells": [
    {
      "cell_type": "markdown",
      "metadata": {
        "id": "view-in-github",
        "colab_type": "text"
      },
      "source": [
        "<a href=\"https://colab.research.google.com/github/theindianczar/ml/blob/master/Key_methods_for_remembering.ipynb\" target=\"_parent\"><img src=\"https://colab.research.google.com/assets/colab-badge.svg\" alt=\"Open In Colab\"/></a>"
      ]
    },
    {
      "cell_type": "code",
      "metadata": {
        "id": "6JMvyUwMPepk",
        "colab_type": "code",
        "colab": {}
      },
      "source": [
        "\"Sample 1\"\n",
        "## code for linear regression using statsmodel ####\n",
        "\n",
        "import pandas as pd\n",
        "import statsmodels.formula.api as smf\n",
        "\n",
        "## creating sample data\n",
        "data = pd.DataFrame({'TV':[230.1,44.5,17.2,11.5,34,90,67.5,45.6,21.4],\n",
        "                     'radio':[37.8,37.9,39.3,23.1,34.7,67.4,89,12.3,11.8],\n",
        "                     'newspaper':[69.2,70.5,80.3,98.3,87.3,90.4,67.3,87.6,92.3],\n",
        "                     'sales':[22.1,10.4,9.3,11.5,32.3,23.6,41.2,54.6,21.9]})\n",
        "\n",
        "lm = smf.ols(formula='sales~TV+radio',data=data).fit()\n",
        "print(lm.conf_int())\n",
        "print(lm.pvalues)\n",
        "print(lm.rsquared)\n",
        "print(lm.summary())\n"
      ],
      "execution_count": null,
      "outputs": []
    },
    {
      "cell_type": "code",
      "metadata": {
        "id": "JpGqG3fMPoeP",
        "colab_type": "code",
        "colab": {}
      },
      "source": [
        "\"Sample 2\"\n",
        "#### Plotting data using inbuilt matplotlib ###\n",
        "\n",
        "import pandas as pd\n",
        "import numpy as np\n",
        "import matplotlib.pyplot as plt\n",
        "%matplotlib inline\n",
        "\n",
        "fig,axes = plt.subplots(1,3,sharey=True)\n",
        "data.plot(kind='scatter',x='TV',y='sales',ax=axes[0],figsize=[18,8])\n",
        "data.plot(kind='scatter',x='radio',y='sales',ax = axes[1])\n",
        "data.plot(kind='scatter',x='newspaper',y='sales',ax=axes[2])"
      ],
      "execution_count": null,
      "outputs": []
    },
    {
      "cell_type": "code",
      "metadata": {
        "id": "jpxZ_lp-Pun4",
        "colab_type": "code",
        "colab": {}
      },
      "source": [
        "\"Sample 3\"\n",
        "#### code for linear regression using sklearn ########\n",
        "\n",
        "\n",
        "from sklearn.linear_model import LinearRegression\n",
        "from sklearn.metrics import r2_score,mean_squared_error\n",
        "from sklearn import model_selection\n",
        "\n",
        "feature_cols=['TV']\n",
        "x=data[feature_cols]\n",
        "y=data['sales']\n",
        "\n",
        "lm= LinearRegression()\n",
        "lm.fit(x,y)\n",
        "\n",
        "print(lm.intercept_)\n",
        "print(lm.coef_)\n",
        "\n",
        "\n",
        "## predicting usilng linear regression ##\n",
        "\n",
        "x_new=pd.DataFrame({'TV':[50]})\n",
        "x_new\n",
        "lm.predict(x_new)\n",
        "\n",
        "\n",
        "## another prediction using linear regression  ###\n",
        "x_new = pd.DataFrame({'TV':[data.TV.min(),data.TV.max()]})\n",
        "preds = lm.predict(x_new)\n",
        "preds\n",
        "\n",
        "### graphically showing teh linear regression line ####\n",
        "data.plot(kind='scatter',x='TV',y='sales',)\n",
        "## printing red line for the newly predicted points\n",
        "plt.plot(x_new,preds,'y',linewidth=2)\n",
        "## printing green dots for the newly predicted points\n",
        "plt.plot(x_new,preds,'r+',linewidth=2)\n"
      ],
      "execution_count": null,
      "outputs": []
    }
  ]
}